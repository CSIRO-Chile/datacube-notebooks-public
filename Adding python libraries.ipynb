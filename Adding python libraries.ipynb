{
 "cells": [
  {
   "cell_type": "markdown",
   "metadata": {},
   "source": [
    "# Adding custom python libraries"
   ]
  },
  {
   "cell_type": "markdown",
   "metadata": {},
   "source": [
    "It is possible to add additional python libraries to your notebook environment, but you first need to follow a few steps:"
   ]
  },
  {
   "cell_type": "markdown",
   "metadata": {},
   "source": [
    "### 1. Create new virtual environment\n",
    "First, in a terminal, create a virtual environment\n",
    "```sh\n",
    "python3 -m venv ~/venvs/myenv\n",
    "source ~/venvs/myenv/bin/activate \n",
    "```\n",
    "\n",
    "To open a terminal, click on File>New>Terminal"
   ]
  },
  {
   "cell_type": "markdown",
   "metadata": {},
   "source": [
    "### 2. Load default libraries\n",
    "In order to load all of the default python libraries that are installed in the default environment (e.g. including gdal, dask, boto, plotly, holoviews and many others), run the following command:\n",
    "\n",
    "```sh\n",
    "realpath /env/lib/python3.6/site-packages > ~/venvs/myenv/lib/python3.6/site-packages/base_venv.pth\n",
    "```"
   ]
  },
  {
   "cell_type": "markdown",
   "metadata": {},
   "source": [
    "### 3. Install new libraries\n",
    "Then switch into the new venv\n",
    "```sh\n",
    "source ~/venvs/myenv/bin/activate\n",
    "```"
   ]
  },
  {
   "cell_type": "markdown",
   "metadata": {},
   "source": [
    "You will now be able to nstall new libraries into your new environment, e.g. Below we install [geopy](https://geopy.readthedocs.io/en/stable/)\n",
    "\n",
    "```sh\n",
    "pip install --upgrade pip geopy\n",
    "```"
   ]
  },
  {
   "cell_type": "markdown",
   "metadata": {},
   "source": [
    "Inside a python prompt, you should now be able to import geopy:\n",
    "```sh\n",
    "python3\n",
    "```\n",
    "```python\n",
    ">>>import geopy\n",
    "```"
   ]
  },
  {
   "cell_type": "markdown",
   "metadata": {},
   "source": [
    ">***BUT*** at this point, it will only work inside the Terminal. Follow **step 4** below to make the environment available inside Jupyter."
   ]
  },
  {
   "cell_type": "markdown",
   "metadata": {},
   "source": [
    "If you want to deactivate your new environment and return to the default, use the following command:\n",
    "```sh\n",
    "deactivate\n",
    "```"
   ]
  },
  {
   "cell_type": "markdown",
   "metadata": {},
   "source": [
    "### 4. Virtual Env in EASI Hub Jupyter (optional)\n",
    "\n",
    "You can then add the new environment as a kernel inside Jupyter by running the following line. Note that you should have your new environment activitated (as shown above).\n",
    "\n",
    "```sh\n",
    "python -m ipykernel install --user --name=myenv\n",
    "```"
   ]
  },
  {
   "cell_type": "markdown",
   "metadata": {},
   "source": [
    "After running this example above, try refreshing the browser and clicking on the words \"Python 3\" at the top right. This allows you to select a different Kernel, including your new \"myenv\" environment."
   ]
  }
 ],
 "metadata": {
  "kernelspec": {
   "display_name": "Python 3",
   "language": "python",
   "name": "python3"
  },
  "language_info": {
   "codemirror_mode": {
    "name": "ipython",
    "version": 3
   },
   "file_extension": ".py",
   "mimetype": "text/x-python",
   "name": "python",
   "nbconvert_exporter": "python",
   "pygments_lexer": "ipython3",
   "version": "3.6.9"
  }
 },
 "nbformat": 4,
 "nbformat_minor": 4
}
