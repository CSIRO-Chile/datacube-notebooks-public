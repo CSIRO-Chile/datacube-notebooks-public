{
 "cells": [
  {
   "cell_type": "markdown",
   "metadata": {},
   "source": [
    "## Adding custom python libraries"
   ]
  },
  {
   "cell_type": "markdown",
   "metadata": {},
   "source": [
    "It is possible to add additional python libraries to your notebook environment, but you first need to follow a few steps:"
   ]
  },
  {
   "cell_type": "markdown",
   "metadata": {},
   "source": [
    "First, in a terminal, create a virtual environment\n",
    "```sh\n",
    "python3 -m venv ~/venvs/myenv\n",
    "source ~/venvs/myenv/bin/activate \n",
    "```"
   ]
  },
  {
   "cell_type": "markdown",
   "metadata": {},
   "source": [
    "Install the libraries that you want to use, e.g. Below we install [geopy](https://geopy.readthedocs.io/en/stable/)"
   ]
  },
  {
   "cell_type": "markdown",
   "metadata": {},
   "source": [
    "```sh\n",
    "pip install --upgrade pip geopy\n",
    "deactivate # Deactivate the environment\n",
    "```"
   ]
  },
  {
   "cell_type": "code",
   "execution_count": 1,
   "metadata": {},
   "outputs": [],
   "source": [
    "import geopy"
   ]
  },
  {
   "cell_type": "markdown",
   "metadata": {},
   "source": [
    ">***BUT*** this won't last beyond a single session. To make this work from properly from inside Jupyter, you need to make Jupyter see your new venv. To do this, see below."
   ]
  },
  {
   "cell_type": "markdown",
   "metadata": {},
   "source": [
    "## Virtual Env in EASI Hub Jupyter\n",
    "\n",
    "The code above will create a blank venv, after you have done this, add a python .pth file to point at the EASI Hub default installed environment\n",
    "\n",
    "```sh\n",
    "realpath /env/lib/python3.6/site-packages > ~/venvs/myenv/lib/python3.6/site-packages/base_venv.pth\n",
    "```\n",
    "\n",
    "Then switch into the new venv\n",
    "```sh\n",
    "source ~/venvs/myenv/bin/activate\n",
    "```\n",
    "\n",
    "You can then install whatever extras you need and have jupyter add the new environment as a kernel (run this after you have activated your new venv)\n",
    "```sh\n",
    "python -m ipykernel install --user --name=myenv\n",
    "```\n",
    "\n",
    "You can then select the custom kernel environment from inside the notebook when you run it or from the launcher."
   ]
  },
  {
   "cell_type": "markdown",
   "metadata": {},
   "source": [
    "After running this example above, try refreshing this page and clicking on the words \"Python 3\" at the top right. This allows you to select a different Kernel, including your new \"myenv\" environment."
   ]
  }
 ],
 "metadata": {
  "kernelspec": {
   "display_name": "Python 3",
   "language": "python",
   "name": "python3"
  },
  "language_info": {
   "codemirror_mode": {
    "name": "ipython",
    "version": 3
   },
   "file_extension": ".py",
   "mimetype": "text/x-python",
   "name": "python",
   "nbconvert_exporter": "python",
   "pygments_lexer": "ipython3",
   "version": "3.6.9"
  }
 },
 "nbformat": 4,
 "nbformat_minor": 4
}
